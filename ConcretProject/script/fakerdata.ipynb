{
 "cells": [
  {
   "cell_type": "code",
   "execution_count": 13,
   "id": "ee3d7b85",
   "metadata": {},
   "outputs": [],
   "source": [
    "from faker import Faker\n",
    "import pandas as pd\n",
    "import numpy as np\n",
    "import random\n",
    "import os\n",
    "import shutil\n"
   ]
  },
  {
   "cell_type": "code",
   "execution_count": 16,
   "id": "99481c7b",
   "metadata": {},
   "outputs": [],
   "source": [
    "fake = Faker('PT-BR')\n",
    "datas = pd.date_range(\"2021-01-01\", \"2025-09-01\", freq=\"D\")\n",
    "# Quantidades\n",
    "n_usinas = 100\n",
    "n_regionais = 10\n",
    "n_clientes = 2000\n",
    "n_obras = 3000\n",
    "n_tipos = 4"
   ]
  },
  {
   "cell_type": "markdown",
   "id": "bf1b9fff",
   "metadata": {},
   "source": [
    "criando dados fakes"
   ]
  },
  {
   "cell_type": "code",
   "execution_count": 28,
   "id": "ee89ab62",
   "metadata": {},
   "outputs": [],
   "source": [
    "regionais = pd.DataFrame({\n",
    "    \"REGIONAL_ID\": range(1, n_regionais+1),\n",
    "    \"NOME\": [f\"Regional {i}\" for i in range(1, n_regionais+1)]\n",
    "})\n",
    "\n",
    "usinas = pd.DataFrame({\n",
    "    \"USINA_ID\": range(1, n_usinas+1),\n",
    "    \"NOME\": [f\"Usina {i}\" for i in range(1, n_usinas+1)],\n",
    "    \"REGIONAL_ID\": np.random.choice(regionais[\"REGIONAL_ID\"], n_usinas)\n",
    "})\n",
    "\n",
    "clientes = pd.DataFrame({\n",
    "    \"CLIENTE_ID\": range(1, n_clientes+1),\n",
    "    \"NOME\": [fake.company() for _ in range(n_clientes)],\n",
    "    \"USINA_ID\": np.random.choice(usinas[\"USINA_ID\"], n_clientes)\n",
    "})\n",
    "\n",
    "tipo_concreto = pd.DataFrame({\n",
    "    \"TIPOCONCRETO_ID\": range(1, n_tipos+1),\n",
    "    \"DESCRICAO\": [\"Convencional\", \"Bombeável\", \"Alto desempenho\", \"Rápida secagem\"]\n",
    "})\n",
    "\n",
    "obras = pd.DataFrame({\n",
    "    \"OBRAS_ID\": range(1, n_obras+1),\n",
    "    \"CLIENTE_ID\": np.random.choice(clientes[\"CLIENTE_ID\"], n_obras),\n",
    "    \"USINA_ID\": np.random.choice(usinas[\"USINA_ID\"], n_obras)\n",
    "})\n",
    "\n",
    "# --------------------\n",
    "# Vendas simuladas\n",
    "# --------------------\n",
    "vendas = pd.DataFrame({\n",
    "    \"PEDIDO_ID\": range(1, 2001),\n",
    "    \"DATA_PEDIDO\": np.random.choice(datas, 2000),\n",
    "    \"CLIENTE_ID\": np.random.choice(clientes[\"CLIENTE_ID\"], 2000),\n",
    "    \"OBRA_ID\": np.random.choice(obras[\"OBRAS_ID\"], 2000),\n",
    "    \"USINA_ID\": np.random.choice(usinas[\"USINA_ID\"], 2000),\n",
    "    \"TIPOCONCRETO_ID\": np.random.choice(tipo_concreto[\"TIPOCONCRETO_ID\"], 2000),\n",
    "    \"M3_PEDIDO\": np.round(np.random.uniform(5, 50, 2000),2),\n",
    "    \"STATUS\": np.random.choice([\"CONFIRMADO\",\"CANCELADO\"], 2000, p=[0.85,0.15]),\n",
    "    \"PRECO_UNITARIO\": np.round(np.random.uniform(280,500,2000),2)\n",
    "})\n",
    "\n",
    "# --------------------\n",
    "# Entregas\n",
    "# --------------------\n",
    "entregas = vendas[vendas[\"STATUS\"]==\"CONFIRMADO\"].copy()\n",
    "entregas = entregas.sample(frac=0.9)  # 90% realizadas\n",
    "\n",
    "entregas[\"M3_ENTREGUE\"] = entregas[\"M3_PEDIDO\"] * np.random.uniform(0.9,1.05,len(entregas))\n",
    "entregas[\"HORA_SAIDA\"] = [fake.time() for _ in range(len(entregas))]\n",
    "entregas[\"HORA_CHEGADA\"] = [fake.time() for _ in range(len(entregas))]\n",
    "entregas[\"STATUS\"] = np.random.choice([\"ENTREGUE\",\"ATRASADO\"], len(entregas), p=[0.85,0.15])\n",
    "entregas[\"MOTIVO_ATRASO\"] = np.where(entregas[\"STATUS\"]==\"ATRASADO\",\n",
    "                                     np.random.choice([\"Trânsito\",\"Clima\",\"Manutenção\"], len(entregas)),\n",
    "                                     None)\n",
    "\n",
    "# --------------------\n",
    "# Contratos\n",
    "# --------------------\n",
    "contratos = pd.DataFrame({\n",
    "    \"CONTRATO_ID\": range(1, n_clientes+1),\n",
    "    \"ID_OBRA\": np.random.choice(obras[\"OBRAS_ID\"], n_clientes),\n",
    "    \"CLIENTE_ID\": clientes[\"CLIENTE_ID\"],\n",
    "    \"TIPO_CONCRETO\": np.random.choice(tipo_concreto[\"TIPOCONCRETO_ID\"], n_clientes),\n",
    "    \"PRECO\": np.round(np.random.uniform(280, 500, n_clientes),2),\n",
    "    \"DESCONTO\": np.round(np.random.uniform(0, 0.15, n_clientes),2),\n",
    "    \"M3_CONTRATADO\": np.round(np.random.uniform(200, 2000, n_clientes),2),\n",
    "    \"VIGENCIA_INICIO\": [fake.date_between(start_date=\"-3y\", end_date=\"today\") for _ in range(n_clientes)],\n",
    "    \"VIGENCIA_FIM\": [fake.date_between(start_date=\"today\", end_date=\"+2y\") for _ in range(n_clientes)]\n",
    "})\n"
   ]
  },
  {
   "cell_type": "code",
   "execution_count": 32,
   "id": "93897656",
   "metadata": {},
   "outputs": [
    {
     "name": "stdout",
     "output_type": "stream",
     "text": [
      "✅ Arquivo concretdata_csvs.zip gerado com sucesso!\n"
     ]
    }
   ],
   "source": [
    "# --------------------\n",
    "# Exporta para CSV\n",
    "# --------------------\n",
    "# Diretório de saída\n",
    "output_dir = \"concretdata_csvs\"\n",
    "os.makedirs(output_dir, exist_ok=True)\n",
    "\n",
    "regionais.to_csv(f\"{output_dir}/regionais.csv\", index=False, sep=\";\")\n",
    "usinas.to_csv(f\"{output_dir}/usinas.csv\", index=False, sep=\";\")\n",
    "clientes.to_csv(f\"{output_dir}/clientes.csv\", index=False, sep=\";\")\n",
    "tipo_concreto.to_csv(f\"{output_dir}/tipo_concreto.csv\", index=False, sep=\";\")\n",
    "obras.to_csv(f\"{output_dir}/obras.csv\", index=False, sep=\";\")\n",
    "vendas.to_csv(f\"{output_dir}/vendas.csv\", index=False, sep=\";\")\n",
    "entregas.to_csv(f\"{output_dir}/entregas.csv\", index=False, sep=\";\")\n",
    "contratos.to_csv(f\"{output_dir}/contratos.csv\", index=False, sep=\";\")\n",
    "\n",
    "#COMPACTA\n",
    "shutil.make_archive(\"concretdata_csvs\", 'zip', output_dir)\n",
    "print(\"✅ Arquivo concretdata_csvs.zip gerado com sucesso!\")"
   ]
  }
 ],
 "metadata": {
  "kernelspec": {
   "display_name": "Python 3",
   "language": "python",
   "name": "python3"
  },
  "language_info": {
   "codemirror_mode": {
    "name": "ipython",
    "version": 3
   },
   "file_extension": ".py",
   "mimetype": "text/x-python",
   "name": "python",
   "nbconvert_exporter": "python",
   "pygments_lexer": "ipython3",
   "version": "3.13.2"
  }
 },
 "nbformat": 4,
 "nbformat_minor": 5
}
