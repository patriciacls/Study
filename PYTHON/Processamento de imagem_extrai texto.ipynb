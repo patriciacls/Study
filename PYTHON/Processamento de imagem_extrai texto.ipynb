{
 "cells": [
  {
   "cell_type": "markdown",
   "id": "757552fb",
   "metadata": {},
   "source": [
    "Extrai texto de uma imagem indicada\n",
    "Para realizar a importação, usei a tesseract, contudo é necessário incluir em path (instalar), \n",
    "através desse link: https://github.com/UB-Mannheim/tesseract/wiki"
   ]
  },
  {
   "cell_type": "code",
   "execution_count": 19,
   "id": "78d442df",
   "metadata": {},
   "outputs": [],
   "source": [
    "from PIL import Image\n",
    "import pytesseract"
   ]
  },
  {
   "cell_type": "code",
   "execution_count": 32,
   "id": "b6b3a175",
   "metadata": {
    "scrolled": true
   },
   "outputs": [],
   "source": [
    "#indicar imagem\n",
    "imagem = Image.open(r'C:\\Users\\PATRICIASANTOS\\Downloads\\img3.png')"
   ]
  },
  {
   "cell_type": "code",
   "execution_count": 33,
   "id": "4cc94a35",
   "metadata": {},
   "outputs": [],
   "source": [
    "#extraindo com tesseract\n",
    "texto = pytesseract.image_to_string(imagem)"
   ]
  },
  {
   "cell_type": "code",
   "execution_count": 34,
   "id": "dcb6c328",
   "metadata": {},
   "outputs": [
    {
     "name": "stdout",
     "output_type": "stream",
     "text": [
      "Texto extraído: \n",
      "\n",
      "# Dados (Quarterly)\n",
      "\n",
      "lucro_liquido_quarterly = ticker.quarterly_financials.loc['Net Income']\n",
      "receita_total_quarterly = ticker.quarterly_financials.loc[ ‘Total Revenue’ ]\n",
      "lucro_bruto_quarterly = ticker.quarterly financials. loc['Gross Profit']\n",
      "patrimonio liquido quarterly = balanco_patrimonial.loc['Stockholders Equity']\n",
      "\n"
     ]
    }
   ],
   "source": [
    "print(\"Texto extraído: \\n\" )\n",
    "print(texto)"
   ]
  }
 ],
 "metadata": {
  "kernelspec": {
   "display_name": "Python 3 (ipykernel)",
   "language": "python",
   "name": "python3"
  },
  "language_info": {
   "codemirror_mode": {
    "name": "ipython",
    "version": 3
   },
   "file_extension": ".py",
   "mimetype": "text/x-python",
   "name": "python",
   "nbconvert_exporter": "python",
   "pygments_lexer": "ipython3",
   "version": "3.7.1"
  }
 },
 "nbformat": 4,
 "nbformat_minor": 5
}
