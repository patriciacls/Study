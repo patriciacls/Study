{
 "cells": [
  {
   "cell_type": "markdown",
   "id": "4c383444",
   "metadata": {},
   "source": [
    "Esse programa é para validação dos CNPJ do XML das danfes. Necessário incluir a lista_chaves com os CNPJ/CPF que serão validados.\n",
    "E colocar as danfes em um diretório separado com os XML das danfes para ele ler, e identificar no pasta_xmls"
   ]
  },
  {
   "cell_type": "code",
   "execution_count": 1,
   "id": "4b3a735c",
   "metadata": {},
   "outputs": [],
   "source": [
    "import  xml.etree.ElementTree"
   ]
  },
  {
   "cell_type": "code",
   "execution_count": null,
   "id": "9e5eb1c8",
   "metadata": {},
   "outputs": [
    {
     "name": "stderr",
     "output_type": "stream",
     "text": [
      "C:\\Users\\PATRICIASANTOS\\AppData\\Local\\Temp\\ipykernel_15252\\86019018.py:320: DeprecationWarning: Testing an element's truth value will always return True in future versions.  Use specific 'len(elem)' or 'elem is not None' test instead.\n",
      "  'emitente': emit_cnpj or emit_cpf,\n",
      "C:\\Users\\PATRICIASANTOS\\AppData\\Local\\Temp\\ipykernel_15252\\86019018.py:321: DeprecationWarning: Testing an element's truth value will always return True in future versions.  Use specific 'len(elem)' or 'elem is not None' test instead.\n",
      "  'destinatário': dest_cnpj or dest_cpf\n"
     ]
    },
    {
     "name": "stdout",
     "output_type": "stream",
     "text": [
      "\n",
      "=== RELATÓRIO: CNPJs/CPFs encontrados com suas Notas ===\n",
      "\n",
      "✅ Relatório salvo em: notas_filtradas.csv\n"
     ]
    }
   ],
   "source": [
    "import os\n",
    "import xml.etree.ElementTree as ET\n",
    "\n",
    "#lista\n",
    "lista_chaves = \"\"\"\n",
    "lista dos cnpj's XXXXXXXXXX\n",
    "\"\"\".strip().splitlines()\n",
    "\n",
    "\n",
    "lista_chaves = set([chave.strip() for chave in lista_chaves if chave.strip().isdigit()])\n",
    "\n",
    "def extrair_chaves_do_xml(xml_path):\n",
    "    resultados = []\n",
    "    try:\n",
    "        tree = ET.parse(xml_path)\n",
    "        root = tree.getroot()\n",
    "        ns = {'ns': root.tag.split('}')[0].strip('{')}\n",
    "\n",
    "        #chave\n",
    "        infnfe = root.find('.//ns:infNFe', ns)\n",
    "        if infnfe is None:\n",
    "            return []\n",
    "\n",
    "        chave_acesso = infnfe.attrib.get('Id', '').replace('NFe', '')\n",
    "\n",
    "        #emitente e destinatário\n",
    "        emit_cnpj = root.find('.//ns:emit/ns:CNPJ', ns)\n",
    "        emit_cpf  = root.find('.//ns:emit/ns:CPF', ns)\n",
    "        dest_cnpj = root.find('.//ns:dest/ns:CNPJ', ns)\n",
    "        dest_cpf  = root.find('.//ns:dest/ns:CPF', ns)\n",
    "\n",
    "        pares = {\n",
    "            'emitente': emit_cnpj or emit_cpf,\n",
    "            'destinatário': dest_cnpj or dest_cpf\n",
    "        }\n",
    "\n",
    "        for tipo, tag in pares.items():\n",
    "            if tag is not None and tag.text:\n",
    "                doc = tag.text.strip()\n",
    "                if doc in lista_chaves:\n",
    "                    resultados.append((doc, chave_acesso, tipo))\n",
    "\n",
    "    except Exception as e:\n",
    "        print(f\"Erro ao processar {os.path.basename(xml_path)}: {e}\")\n",
    "    return resultados\n",
    "\n",
    "pasta_xmls = 'caminho'  \n",
    "relatorio = []\n",
    "\n",
    "for arquivo in os.listdir(pasta_xmls):\n",
    "    if arquivo.lower().endswith('.xml'):\n",
    "        caminho_arquivo = os.path.join(pasta_xmls, arquivo)\n",
    "        resultados = extrair_chaves_do_xml(caminho_arquivo)\n",
    "        relatorio.extend(resultados)\n",
    "\n",
    "\n",
    "print(\"\\n=== RELATÓRIO: CNPJs/CPFs encontrados com suas Notas ===\")\n",
    "for doc, chave, tipo in sorted(relatorio):\n",
    "    print(f\"{tipo.title():<12} | {doc} | Chave: {chave}\")\n",
    "\n",
    "\n",
    "import csv\n",
    "nome_arquivo = 'notas_filtradas.csv'\n",
    "campos = ['chave', 'emitente', 'destinatário']\n",
    "with open(nome_arquivo, mode='w', newline='', encoding='utf-8') as arquivo_csv:\n",
    "    escritor = csv.DictWriter(arquivo_csv, fieldnames=campos)\n",
    "    escritor.writeheader()\n",
    "    escritor.writerows(resultados)\n",
    "\n",
    "print(f'\\n Relatório salvo em: {nome_arquivo}')\n",
    "\n",
    "\n"
   ]
  }
 ],
 "metadata": {
  "kernelspec": {
   "display_name": "Python 3",
   "language": "python",
   "name": "python3"
  },
  "language_info": {
   "codemirror_mode": {
    "name": "ipython",
    "version": 3
   },
   "file_extension": ".py",
   "mimetype": "text/x-python",
   "name": "python",
   "nbconvert_exporter": "python",
   "pygments_lexer": "ipython3",
   "version": "3.13.2"
  }
 },
 "nbformat": 4,
 "nbformat_minor": 5
}
