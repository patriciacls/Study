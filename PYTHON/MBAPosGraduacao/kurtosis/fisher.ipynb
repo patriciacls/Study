{
 "cells": [
  {
   "cell_type": "markdown",
   "id": "15c06ea7",
   "metadata": {},
   "source": [
    "implementando com o scipy o conceito de curtose\n",
    "visto que\n",
    "\n",
    "g2 = 0 indica curva com distribuição normal\n",
    "\n",
    "g2 > 0 indica curva com distribuição alongada\n",
    "\n",
    "g2 < 0 indica curva com distribuição achatada\n"
   ]
  },
  {
   "cell_type": "code",
   "execution_count": 1,
   "id": "6867cd43",
   "metadata": {},
   "outputs": [
    {
     "name": "stdout",
     "output_type": "stream",
     "text": [
      "Curtose de Fisher: 0.0139\n"
     ]
    }
   ],
   "source": [
    "import numpy as np\n",
    "from scipy.stats import kurtosis\n",
    "\n",
    "dados = np.random.normal(loc=0, scale=1, size=1000)\n",
    "\n",
    "# Curtose de Fisher\n",
    "curtose_fisher = kurtosis(dados, fisher=True)\n",
    "print(f\"Curtose de Fisher: {curtose_fisher:.4f}\")\n"
   ]
  }
 ],
 "metadata": {
  "kernelspec": {
   "display_name": "Python 3",
   "language": "python",
   "name": "python3"
  },
  "language_info": {
   "codemirror_mode": {
    "name": "ipython",
    "version": 3
   },
   "file_extension": ".py",
   "mimetype": "text/x-python",
   "name": "python",
   "nbconvert_exporter": "python",
   "pygments_lexer": "ipython3",
   "version": "3.13.2"
  }
 },
 "nbformat": 4,
 "nbformat_minor": 5
}
